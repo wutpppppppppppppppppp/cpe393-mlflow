{
 "cells": [
  {
   "cell_type": "markdown",
   "id": "dfe56519c2a2a9a0",
   "metadata": {
    "collapsed": false
   },
   "source": [
    "Scenario 2: A cross-functional team with one data scientist working on an ML model\n",
    "MLflow setup:\n",
    "\n",
    "tracking server: yes, local server\n",
    "artifacts store: local filesystem\n",
    "The experiments can be explored locally by accessing the local tracking server.\n",
    "\n",
    "To run this example you need to launch the mlflow server locally by running the following command in your terminal:"
   ]
  },
  {
   "cell_type": "code",
   "execution_count": 2,
   "id": "initial_id",
   "metadata": {
    "ExecuteTime": {
     "end_time": "2025-03-16T09:06:31.712424Z",
     "start_time": "2025-03-16T09:06:31.708034Z"
    },
    "collapsed": true
   },
   "outputs": [],
   "source": [
    "import mlflow\n",
    "\n",
    "mlflow.set_tracking_uri(\"http://127.0.0.1:8080\")"
   ]
  },
  {
   "cell_type": "code",
   "execution_count": 3,
   "id": "4d99b187b89b7307",
   "metadata": {
    "ExecuteTime": {
     "end_time": "2025-03-16T09:06:49.076766Z",
     "start_time": "2025-03-16T09:06:49.071949Z"
    },
    "collapsed": false
   },
   "outputs": [
    {
     "name": "stdout",
     "output_type": "stream",
     "text": [
      "tracking URI: 'http://127.0.0.1:8080'\n"
     ]
    }
   ],
   "source": [
    "print(f\"tracking URI: '{mlflow.get_tracking_uri()}'\")"
   ]
  },
  {
   "cell_type": "code",
   "execution_count": 4,
   "id": "986736ec4023bedc",
   "metadata": {
    "ExecuteTime": {
     "end_time": "2025-03-16T09:09:09.178225Z",
     "start_time": "2025-03-16T09:07:01.876890Z"
    },
    "collapsed": false
   },
   "outputs": [
    {
     "data": {
      "text/plain": [
       "[<Experiment: artifact_location='file:///Users/woosh/Study/CPE393%20MLops/cpe393-mlflow/mlruns/255703267608725358', creation_time=1743004137644, experiment_id='255703267608725358', last_update_time=1743004137644, lifecycle_stage='active', name='my-experiment-1', tags={}>,\n",
       " <Experiment: artifact_location='mlflow-artifacts:/0', creation_time=1743003146986, experiment_id='0', last_update_time=1743003146986, lifecycle_stage='active', name='Default', tags={}>]"
      ]
     },
     "execution_count": 4,
     "metadata": {},
     "output_type": "execute_result"
    }
   ],
   "source": [
    "mlflow.search_experiments()"
   ]
  },
  {
   "cell_type": "code",
   "execution_count": 5,
   "id": "e70b7d7b2d63c8e",
   "metadata": {
    "ExecuteTime": {
     "end_time": "2025-03-16T09:09:13.013463Z",
     "start_time": "2025-03-16T09:09:09.182442Z"
    },
    "collapsed": false
   },
   "outputs": [
    {
     "name": "stderr",
     "output_type": "stream",
     "text": [
      "2025/03/26 22:49:03 INFO mlflow.tracking.fluent: Experiment with name 'my-experiment-2' does not exist. Creating a new experiment.\n",
      "\u001b[31m2025/03/26 22:49:05 WARNING mlflow.models.model: Model logged without a signature and input example. Please set `input_example` parameter when logging the model to auto infer the model signature.\u001b[0m\n"
     ]
    },
    {
     "name": "stdout",
     "output_type": "stream",
     "text": [
      "default artifacts URI: 'mlflow-artifacts:/485020494455916901/7c703e2f66d84827bd99c2ac71fe5fea/artifacts'\n",
      "🏃 View run defiant-jay-961 at: http://127.0.0.1:8080/#/experiments/485020494455916901/runs/7c703e2f66d84827bd99c2ac71fe5fea\n",
      "🧪 View experiment at: http://127.0.0.1:8080/#/experiments/485020494455916901\n"
     ]
    }
   ],
   "source": [
    "from sklearn.linear_model import LogisticRegression\n",
    "from sklearn.datasets import load_iris\n",
    "from sklearn.metrics import accuracy_score\n",
    "\n",
    "mlflow.set_experiment(\"my-experiment-2\")\n",
    "\n",
    "with mlflow.start_run():\n",
    "\n",
    "    X, y = load_iris(return_X_y=True)\n",
    "\n",
    "    params = {\"C\": 0.1, \"random_state\": 42}\n",
    "    mlflow.log_params(params)\n",
    "\n",
    "    lr = LogisticRegression(**params).fit(X, y)\n",
    "    y_pred = lr.predict(X)\n",
    "    mlflow.log_metric(\"accuracy\", accuracy_score(y, y_pred))\n",
    "\n",
    "    mlflow.sklearn.log_model(lr, artifact_path=\"models\")\n",
    "    print(f\"default artifacts URI: '{mlflow.get_artifact_uri()}'\")"
   ]
  },
  {
   "cell_type": "code",
   "execution_count": 6,
   "id": "a88a4eaecc718678",
   "metadata": {
    "ExecuteTime": {
     "end_time": "2025-03-16T09:09:27.091694Z",
     "start_time": "2025-03-16T09:09:27.079532Z"
    },
    "collapsed": false
   },
   "outputs": [
    {
     "data": {
      "text/plain": [
       "[<Experiment: artifact_location='mlflow-artifacts:/485020494455916901', creation_time=1743004143866, experiment_id='485020494455916901', last_update_time=1743004143866, lifecycle_stage='active', name='my-experiment-2', tags={}>,\n",
       " <Experiment: artifact_location='file:///Users/woosh/Study/CPE393%20MLops/cpe393-mlflow/mlruns/255703267608725358', creation_time=1743004137644, experiment_id='255703267608725358', last_update_time=1743004137644, lifecycle_stage='active', name='my-experiment-1', tags={}>,\n",
       " <Experiment: artifact_location='mlflow-artifacts:/0', creation_time=1743003146986, experiment_id='0', last_update_time=1743003146986, lifecycle_stage='active', name='Default', tags={}>]"
      ]
     },
     "execution_count": 6,
     "metadata": {},
     "output_type": "execute_result"
    }
   ],
   "source": [
    "mlflow.search_experiments()"
   ]
  },
  {
   "cell_type": "code",
   "execution_count": null,
   "id": "2211f777",
   "metadata": {},
   "outputs": [],
   "source": []
  }
 ],
 "metadata": {
  "kernelspec": {
   "display_name": ".venv",
   "language": "python",
   "name": "python3"
  },
  "language_info": {
   "codemirror_mode": {
    "name": "ipython",
    "version": 3
   },
   "file_extension": ".py",
   "mimetype": "text/x-python",
   "name": "python",
   "nbconvert_exporter": "python",
   "pygments_lexer": "ipython3",
   "version": "3.12.6"
  }
 },
 "nbformat": 4,
 "nbformat_minor": 5
}
