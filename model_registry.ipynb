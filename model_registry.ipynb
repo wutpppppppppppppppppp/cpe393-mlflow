{
 "cells": [
  {
   "cell_type": "code",
   "execution_count": 1,
   "id": "initial_id",
   "metadata": {
    "ExecuteTime": {
     "end_time": "2025-03-16T15:49:37.372682Z",
     "start_time": "2025-03-16T15:49:36.072369Z"
    },
    "collapsed": true
   },
   "outputs": [],
   "source": [
    "from mlflow.tracking import MlflowClient\n",
    "\n",
    "\n",
    "MLFLOW_TRACKING_URI = \"sqlite:///mlflow.db\""
   ]
  },
  {
   "cell_type": "code",
   "execution_count": 40,
   "id": "f30d9f40bd30bb2b",
   "metadata": {
    "ExecuteTime": {
     "end_time": "2025-03-16T15:49:53.248289Z",
     "start_time": "2025-03-16T15:49:52.886555Z"
    },
    "collapsed": false
   },
   "outputs": [
    {
     "data": {
      "text/plain": [
       "[<Experiment: artifact_location='/Users/woosh/Study/CPE393 MLops/cpe393-mlflow/mlruns/2', creation_time=1743015352823, experiment_id='2', last_update_time=1743015352823, lifecycle_stage='active', name='lab-nyc-green-taxi-model', tags={}>,\n",
       " <Experiment: artifact_location='/Users/woosh/Study/CPE393 MLops/cpe393-mlflow/mlruns/1', creation_time=1743014891800, experiment_id='1', last_update_time=1743014891800, lifecycle_stage='active', name='mlops_nyc_taxi', tags={}>,\n",
       " <Experiment: artifact_location='/Users/woosh/Study/CPE393 MLops/cpe393-mlflow/mlruns/0', creation_time=1743014891799, experiment_id='0', last_update_time=1743014891799, lifecycle_stage='active', name='Default', tags={}>]"
      ]
     },
     "execution_count": 40,
     "metadata": {},
     "output_type": "execute_result"
    }
   ],
   "source": [
    "client = MlflowClient(tracking_uri=MLFLOW_TRACKING_URI)\n",
    "\n",
    "client.search_experiments()"
   ]
  },
  {
   "cell_type": "code",
   "execution_count": 3,
   "id": "1e41bfef1da117d2",
   "metadata": {
    "ExecuteTime": {
     "end_time": "2025-03-16T15:50:11.714688Z",
     "start_time": "2025-03-16T15:50:11.698987Z"
    },
    "collapsed": false
   },
   "outputs": [
    {
     "data": {
      "text/plain": [
       "'2'"
      ]
     },
     "execution_count": 3,
     "metadata": {},
     "output_type": "execute_result"
    }
   ],
   "source": [
    "client.create_experiment(name=\"lab-nyc-green-taxi-model\")"
   ]
  },
  {
   "cell_type": "code",
   "execution_count": 44,
   "id": "e7965358afe3200b",
   "metadata": {
    "ExecuteTime": {
     "end_time": "2025-03-16T15:50:54.398721Z",
     "start_time": "2025-03-16T15:50:54.382003Z"
    },
    "collapsed": false
   },
   "outputs": [],
   "source": [
    "from mlflow.entities import ViewType\n",
    "\n",
    "runs = client.search_runs(\n",
    "    experiment_ids='1',\n",
    "    filter_string=\"metrics.rmse < 100\",\n",
    "    run_view_type=ViewType.ACTIVE_ONLY,\n",
    "    max_results=5,\n",
    "    order_by=[\"metrics.rmse ASC\"]\n",
    ")"
   ]
  },
  {
   "cell_type": "code",
   "execution_count": 45,
   "id": "52681452eed1388",
   "metadata": {
    "ExecuteTime": {
     "end_time": "2025-03-16T15:50:55.055949Z",
     "start_time": "2025-03-16T15:50:55.053464Z"
    },
    "collapsed": false
   },
   "outputs": [
    {
     "name": "stdout",
     "output_type": "stream",
     "text": [
      "run id: 52743c9556ad46eabf3d05ce48cfae90, rmse: 26.0516\n",
      "run id: 9e9dd776e8134358a86a141d18cef975, rmse: 26.7294\n",
      "run id: 8bebe909c7f544f2bb2d6646d48127a3, rmse: 27.4219\n",
      "run id: e24053e7eb244f9699437379f9912b9c, rmse: 28.6579\n",
      "run id: a2aab96616b84dd19b67c630250b16c5, rmse: 31.1900\n"
     ]
    }
   ],
   "source": [
    "for run in runs:\n",
    "    print(f\"run id: {run.info.run_id}, rmse: {run.data.metrics['rmse']:.4f}\")"
   ]
  },
  {
   "cell_type": "code",
   "execution_count": 46,
   "id": "1364b30512c67b1b",
   "metadata": {
    "ExecuteTime": {
     "end_time": "2025-03-16T15:51:27.949595Z",
     "start_time": "2025-03-16T15:51:27.945794Z"
    },
    "collapsed": false
   },
   "outputs": [],
   "source": [
    "import mlflow\n",
    "\n",
    "mlflow.set_tracking_uri(MLFLOW_TRACKING_URI)"
   ]
  },
  {
   "cell_type": "code",
   "execution_count": 47,
   "id": "181d90df1e449da3",
   "metadata": {
    "collapsed": false
   },
   "outputs": [
    {
     "name": "stderr",
     "output_type": "stream",
     "text": [
      "Registered model 'nyc-taxi-regressor' already exists. Creating a new version of this model...\n",
      "Created version '2' of model 'nyc-taxi-regressor'.\n"
     ]
    },
    {
     "data": {
      "text/plain": [
       "<ModelVersion: aliases=[], creation_timestamp=1743017821012, current_stage='None', description=None, last_updated_timestamp=1743017821012, name='nyc-taxi-regressor', run_id='2ebe874f58ed4fe58cd939dd0ecb2b08', run_link=None, source=('/Users/woosh/Study/CPE393 '\n",
       " 'MLops/cpe393-mlflow/mlruns/1/2ebe874f58ed4fe58cd939dd0ecb2b08/artifacts/model'), status='READY', status_message=None, tags={}, user_id=None, version=2>"
      ]
     },
     "execution_count": 47,
     "metadata": {},
     "output_type": "execute_result"
    }
   ],
   "source": [
    "run_id = \"2ebe874f58ed4fe58cd939dd0ecb2b08\"  #insert your run id\n",
    "model_uri = f\"runs:/{run_id}/model\"\n",
    "mlflow.register_model(model_uri=model_uri, name=\"nyc-taxi-regressor\")"
   ]
  },
  {
   "cell_type": "code",
   "execution_count": 54,
   "id": "7c8686191b00135",
   "metadata": {
    "collapsed": false
   },
   "outputs": [
    {
     "name": "stdout",
     "output_type": "stream",
     "text": [
      "version: 1, stage: Production\n",
      "version: 2, stage: Staging\n"
     ]
    },
    {
     "name": "stderr",
     "output_type": "stream",
     "text": [
      "/var/folders/9p/zg1k26nd61j1lr7bdl1cn2100000gn/T/ipykernel_68358/1279244624.py:3: FutureWarning: ``mlflow.tracking.client.MlflowClient.get_latest_versions`` is deprecated since 2.9.0. Model registry stages will be removed in a future major release. To learn more about the deprecation of model registry stages, see our migration guide here: https://mlflow.org/docs/latest/model-registry.html#migrating-from-stages\n",
      "  latest_versions = client.get_latest_versions(name=model_name)\n"
     ]
    }
   ],
   "source": [
    "#check model version and stages\n",
    "model_name = \"nyc-taxi-regressor\"\n",
    "latest_versions = client.get_latest_versions(name=model_name)\n",
    "\n",
    "for version in latest_versions:\n",
    "    print(f\"version: {version.version}, stage: {version.current_stage}\")"
   ]
  },
  {
   "cell_type": "code",
   "execution_count": 53,
   "id": "7d00b45ade1c81c8",
   "metadata": {
    "collapsed": false
   },
   "outputs": [
    {
     "name": "stderr",
     "output_type": "stream",
     "text": [
      "/var/folders/9p/zg1k26nd61j1lr7bdl1cn2100000gn/T/ipykernel_68358/3812018123.py:4: FutureWarning: ``mlflow.tracking.client.MlflowClient.transition_model_version_stage`` is deprecated since 2.9.0. Model registry stages will be removed in a future major release. To learn more about the deprecation of model registry stages, see our migration guide here: https://mlflow.org/docs/latest/model-registry.html#migrating-from-stages\n",
      "  client.transition_model_version_stage(model_name,model_version,new_stage)\n"
     ]
    },
    {
     "data": {
      "text/plain": [
       "<ModelVersion: aliases=[], creation_timestamp=1743017821012, current_stage='Staging', description=None, last_updated_timestamp=1743017891692, name='nyc-taxi-regressor', run_id='2ebe874f58ed4fe58cd939dd0ecb2b08', run_link=None, source=('/Users/woosh/Study/CPE393 '\n",
       " 'MLops/cpe393-mlflow/mlruns/1/2ebe874f58ed4fe58cd939dd0ecb2b08/artifacts/model'), status='READY', status_message=None, tags={}, user_id=None, version=2>"
      ]
     },
     "execution_count": 53,
     "metadata": {},
     "output_type": "execute_result"
    }
   ],
   "source": [
    "model_version = 2\n",
    "new_stage = \"Staging\"\n",
    "# Use client.transition_model_version_stage() function to model to staging.\n",
    "client.transition_model_version_stage(model_name,model_version,new_stage)"
   ]
  },
  {
   "cell_type": "markdown",
   "id": "973a18941abe32fa",
   "metadata": {
    "collapsed": false
   },
   "source": [
    "Comparing versions and selecting the new \"Production\" model\n",
    "In the last section, we will retrieve models registered in the model registry and compare their performance on an unseen test set. The idea is to simulate the scenario in which a deployment engineer has to interact with the model registry to decide whether to update the model version that is in production or not.\n",
    "\n",
    "These are the steps:\n",
    "\n",
    "Load the test dataset, which corresponds to the NYC Green Taxi data from the month of March 2021.\n",
    "Download the DictVectorizer that was fitted using the training data and saved to MLflow as an artifact, and load it with pickle.\n",
    "Preprocess the test set using the DictVectorizer so we can properly feed the regressors.\n",
    "Make predictions on the test set using the model versions that are currently in the \"Staging\" and \"Production\" stages, and compare their performance.\n",
    "Based on the results, update the \"Production\" model version accordingly.\n"
   ]
  },
  {
   "cell_type": "code",
   "execution_count": 50,
   "id": "e87f0bd2",
   "metadata": {},
   "outputs": [
    {
     "data": {
      "text/html": [
       "<div>\n",
       "<style scoped>\n",
       "    .dataframe tbody tr th:only-of-type {\n",
       "        vertical-align: middle;\n",
       "    }\n",
       "\n",
       "    .dataframe tbody tr th {\n",
       "        vertical-align: top;\n",
       "    }\n",
       "\n",
       "    .dataframe thead th {\n",
       "        text-align: right;\n",
       "    }\n",
       "</style>\n",
       "<table border=\"1\" class=\"dataframe\">\n",
       "  <thead>\n",
       "    <tr style=\"text-align: right;\">\n",
       "      <th></th>\n",
       "      <th>VendorID</th>\n",
       "      <th>lpep_pickup_datetime</th>\n",
       "      <th>lpep_dropoff_datetime</th>\n",
       "      <th>store_and_fwd_flag</th>\n",
       "      <th>RatecodeID</th>\n",
       "      <th>PULocationID</th>\n",
       "      <th>DOLocationID</th>\n",
       "      <th>passenger_count</th>\n",
       "      <th>trip_distance</th>\n",
       "      <th>fare_amount</th>\n",
       "      <th>extra</th>\n",
       "      <th>mta_tax</th>\n",
       "      <th>tip_amount</th>\n",
       "      <th>tolls_amount</th>\n",
       "      <th>ehail_fee</th>\n",
       "      <th>improvement_surcharge</th>\n",
       "      <th>total_amount</th>\n",
       "      <th>payment_type</th>\n",
       "      <th>trip_type</th>\n",
       "      <th>congestion_surcharge</th>\n",
       "    </tr>\n",
       "  </thead>\n",
       "  <tbody>\n",
       "    <tr>\n",
       "      <th>0</th>\n",
       "      <td>2</td>\n",
       "      <td>2019-03-01 00:02:21</td>\n",
       "      <td>2019-03-01 00:04:52</td>\n",
       "      <td>N</td>\n",
       "      <td>1</td>\n",
       "      <td>193</td>\n",
       "      <td>193</td>\n",
       "      <td>1</td>\n",
       "      <td>0.00</td>\n",
       "      <td>3.5</td>\n",
       "      <td>0.5</td>\n",
       "      <td>0.5</td>\n",
       "      <td>1.44</td>\n",
       "      <td>0.0</td>\n",
       "      <td>NaN</td>\n",
       "      <td>0.3</td>\n",
       "      <td>6.24</td>\n",
       "      <td>1</td>\n",
       "      <td>1</td>\n",
       "      <td>0.0</td>\n",
       "    </tr>\n",
       "    <tr>\n",
       "      <th>1</th>\n",
       "      <td>2</td>\n",
       "      <td>2019-03-01 00:42:31</td>\n",
       "      <td>2019-03-01 00:47:42</td>\n",
       "      <td>N</td>\n",
       "      <td>1</td>\n",
       "      <td>80</td>\n",
       "      <td>256</td>\n",
       "      <td>1</td>\n",
       "      <td>0.72</td>\n",
       "      <td>5.5</td>\n",
       "      <td>0.5</td>\n",
       "      <td>0.5</td>\n",
       "      <td>1.36</td>\n",
       "      <td>0.0</td>\n",
       "      <td>NaN</td>\n",
       "      <td>0.3</td>\n",
       "      <td>8.16</td>\n",
       "      <td>1</td>\n",
       "      <td>1</td>\n",
       "      <td>0.0</td>\n",
       "    </tr>\n",
       "    <tr>\n",
       "      <th>2</th>\n",
       "      <td>1</td>\n",
       "      <td>2019-03-01 00:15:53</td>\n",
       "      <td>2019-03-01 00:18:37</td>\n",
       "      <td>N</td>\n",
       "      <td>1</td>\n",
       "      <td>7</td>\n",
       "      <td>179</td>\n",
       "      <td>1</td>\n",
       "      <td>0.50</td>\n",
       "      <td>4.0</td>\n",
       "      <td>0.5</td>\n",
       "      <td>0.5</td>\n",
       "      <td>0.00</td>\n",
       "      <td>0.0</td>\n",
       "      <td>NaN</td>\n",
       "      <td>0.3</td>\n",
       "      <td>5.30</td>\n",
       "      <td>2</td>\n",
       "      <td>1</td>\n",
       "      <td>0.0</td>\n",
       "    </tr>\n",
       "    <tr>\n",
       "      <th>3</th>\n",
       "      <td>2</td>\n",
       "      <td>2019-02-28 23:55:58</td>\n",
       "      <td>2019-03-01 00:01:30</td>\n",
       "      <td>N</td>\n",
       "      <td>1</td>\n",
       "      <td>256</td>\n",
       "      <td>80</td>\n",
       "      <td>1</td>\n",
       "      <td>1.19</td>\n",
       "      <td>6.0</td>\n",
       "      <td>0.5</td>\n",
       "      <td>0.5</td>\n",
       "      <td>1.46</td>\n",
       "      <td>0.0</td>\n",
       "      <td>NaN</td>\n",
       "      <td>0.3</td>\n",
       "      <td>8.76</td>\n",
       "      <td>1</td>\n",
       "      <td>1</td>\n",
       "      <td>0.0</td>\n",
       "    </tr>\n",
       "    <tr>\n",
       "      <th>4</th>\n",
       "      <td>2</td>\n",
       "      <td>2019-03-01 00:55:58</td>\n",
       "      <td>2019-03-01 00:58:12</td>\n",
       "      <td>N</td>\n",
       "      <td>1</td>\n",
       "      <td>223</td>\n",
       "      <td>223</td>\n",
       "      <td>1</td>\n",
       "      <td>0.55</td>\n",
       "      <td>4.0</td>\n",
       "      <td>0.5</td>\n",
       "      <td>0.5</td>\n",
       "      <td>0.00</td>\n",
       "      <td>0.0</td>\n",
       "      <td>NaN</td>\n",
       "      <td>0.3</td>\n",
       "      <td>5.30</td>\n",
       "      <td>2</td>\n",
       "      <td>1</td>\n",
       "      <td>0.0</td>\n",
       "    </tr>\n",
       "  </tbody>\n",
       "</table>\n",
       "</div>"
      ],
      "text/plain": [
       "   VendorID lpep_pickup_datetime lpep_dropoff_datetime store_and_fwd_flag  \\\n",
       "0         2  2019-03-01 00:02:21   2019-03-01 00:04:52                  N   \n",
       "1         2  2019-03-01 00:42:31   2019-03-01 00:47:42                  N   \n",
       "2         1  2019-03-01 00:15:53   2019-03-01 00:18:37                  N   \n",
       "3         2  2019-02-28 23:55:58   2019-03-01 00:01:30                  N   \n",
       "4         2  2019-03-01 00:55:58   2019-03-01 00:58:12                  N   \n",
       "\n",
       "   RatecodeID  PULocationID  DOLocationID  passenger_count  trip_distance  \\\n",
       "0           1           193           193                1           0.00   \n",
       "1           1            80           256                1           0.72   \n",
       "2           1             7           179                1           0.50   \n",
       "3           1           256            80                1           1.19   \n",
       "4           1           223           223                1           0.55   \n",
       "\n",
       "   fare_amount  extra  mta_tax  tip_amount  tolls_amount  ehail_fee  \\\n",
       "0          3.5    0.5      0.5        1.44           0.0        NaN   \n",
       "1          5.5    0.5      0.5        1.36           0.0        NaN   \n",
       "2          4.0    0.5      0.5        0.00           0.0        NaN   \n",
       "3          6.0    0.5      0.5        1.46           0.0        NaN   \n",
       "4          4.0    0.5      0.5        0.00           0.0        NaN   \n",
       "\n",
       "   improvement_surcharge  total_amount  payment_type  trip_type  \\\n",
       "0                    0.3          6.24             1          1   \n",
       "1                    0.3          8.16             1          1   \n",
       "2                    0.3          5.30             2          1   \n",
       "3                    0.3          8.76             1          1   \n",
       "4                    0.3          5.30             2          1   \n",
       "\n",
       "   congestion_surcharge  \n",
       "0                   0.0  \n",
       "1                   0.0  \n",
       "2                   0.0  \n",
       "3                   0.0  \n",
       "4                   0.0  "
      ]
     },
     "execution_count": 50,
     "metadata": {},
     "output_type": "execute_result"
    }
   ],
   "source": [
    "import pandas as pd\n",
    "\n",
    "df = pd.read_csv(\"https://github.com/DataTalksClub/nyc-tlc-data/releases/download/green/green_tripdata_2019-03.csv.gz\", compression='gzip')\n",
    "\n",
    "df.head()"
   ]
  },
  {
   "cell_type": "code",
   "execution_count": 55,
   "id": "323f1e69",
   "metadata": {},
   "outputs": [
    {
     "name": "stdout",
     "output_type": "stream",
     "text": [
      "DictVectorizer successfully loaded and applied to test data.\n"
     ]
    }
   ],
   "source": [
    "import mlflow\n",
    "import pickle\n",
    "from mlflow.artifacts import download_artifacts\n",
    "\n",
    "# Download DictVectorizer from MLflow artifacts\n",
    "artifact_path = f\"runs:/2ebe874f58ed4fe58cd939dd0ecb2b08/preprocessor/preprocessor.b\"\n",
    "\n",
    "try:\n",
    "    vectorizer_local_path = mlflow.artifacts.download_artifacts(artifact_path)\n",
    "except Exception as e:\n",
    "    print(f\"An error occurred while downloading the artifact: {e}\")\n",
    "    vectorizer_local_path = None\n",
    "\n",
    "# Load the DictVectorizer\n",
    "with open(vectorizer_local_path, \"rb\") as f:\n",
    "    dv = pickle.load(f)\n",
    "\n",
    "# Transform the dataset\n",
    "dicts = df.to_dict(orient=\"records\")\n",
    "X_test = dv.transform(dicts)\n",
    "\n",
    "print(\"DictVectorizer successfully loaded and applied to test data.\")\n"
   ]
  },
  {
   "cell_type": "code",
   "execution_count": 59,
   "id": "c12b0f17",
   "metadata": {},
   "outputs": [
    {
     "name": "stderr",
     "output_type": "stream",
     "text": [
      "/var/folders/9p/zg1k26nd61j1lr7bdl1cn2100000gn/T/ipykernel_68358/1945465347.py:8: FutureWarning: ``mlflow.tracking.client.MlflowClient.get_latest_versions`` is deprecated since 2.9.0. Model registry stages will be removed in a future major release. To learn more about the deprecation of model registry stages, see our migration guide here: https://mlflow.org/docs/latest/model-registry.html#migrating-from-stages\n",
      "  production_model = client.get_latest_versions(model_name, stages=[\"Production\"])\n"
     ]
    }
   ],
   "source": [
    "from mlflow.pyfunc import load_model\n",
    "from sklearn.metrics import mean_squared_error\n",
    "import numpy as np\n",
    "\n",
    "staging_model_path = f\"runs:/2ebe874f58ed4fe58cd939dd0ecb2b08/models_mlflow\"\n",
    "# Load the Staging and Production models\n",
    "staging_model = load_model(staging_model_path)\n",
    "production_model = client.get_latest_versions(model_name, stages=[\"Production\"])\n",
    "if production_model:\n",
    "    production_version = production_model[0].version\n",
    "    production_model = load_model(f\"runs:/dc12ee5f06bb4bb7a8304c7d4f11fbb4/models_mlflow\")\n",
    "else:\n",
    "    production_model = None  # No production model yet\n",
    "    print(\"None\")\n"
   ]
  },
  {
   "cell_type": "code",
   "execution_count": 60,
   "id": "3c269941",
   "metadata": {},
   "outputs": [
    {
     "name": "stdout",
     "output_type": "stream",
     "text": [
      "Staging RMSE: 10.7589\n",
      "Production RMSE: 10.7589\n"
     ]
    }
   ],
   "source": [
    "# Make predictions\n",
    "y_pred_staging = staging_model.predict(X_test)\n",
    "rmse_staging = np.sqrt(mean_squared_error(df[\"trip_distance\"], y_pred_staging))\n",
    "\n",
    "if production_model:\n",
    "    y_pred_production = production_model.predict(X_test)\n",
    "    rmse_production = np.sqrt(mean_squared_error(df[\"trip_distance\"], y_pred_production))\n",
    "else:\n",
    "    rmse_production = float(\"inf\")  # No production model, so staging is automatically better\n",
    "\n",
    "print(f\"Staging RMSE: {rmse_staging:.4f}\")\n",
    "print(f\"Production RMSE: {rmse_production:.4f}\")"
   ]
  },
  {
   "cell_type": "code",
   "execution_count": 61,
   "id": "92e4651f",
   "metadata": {},
   "outputs": [
    {
     "name": "stdout",
     "output_type": "stream",
     "text": [
      "No update needed. Production model performs better.\n"
     ]
    },
    {
     "name": "stderr",
     "output_type": "stream",
     "text": [
      "/var/folders/9p/zg1k26nd61j1lr7bdl1cn2100000gn/T/ipykernel_68358/1352207929.py:1: FutureWarning: ``mlflow.tracking.client.MlflowClient.get_latest_versions`` is deprecated since 2.9.0. Model registry stages will be removed in a future major release. To learn more about the deprecation of model registry stages, see our migration guide here: https://mlflow.org/docs/latest/model-registry.html#migrating-from-stages\n",
      "  staging_version = client.get_latest_versions(model_name, stages=[\"Staging\"])[0].version\n"
     ]
    }
   ],
   "source": [
    "staging_version = client.get_latest_versions(model_name, stages=[\"Staging\"])[0].version\n",
    "\n",
    "if rmse_staging < rmse_production:\n",
    "    print(\"Updating Production model...\")\n",
    "    client.transition_model_version_stage(\n",
    "        name=model_name,\n",
    "        version=staging_version,\n",
    "        stage=\"Production\"\n",
    "    )\n",
    "    print(f\"Model version {staging_version} promoted to Production!\")\n",
    "else:\n",
    "    print(\"No update needed. Production model performs better.\")"
   ]
  }
 ],
 "metadata": {
  "kernelspec": {
   "display_name": ".venv",
   "language": "python",
   "name": "python3"
  },
  "language_info": {
   "codemirror_mode": {
    "name": "ipython",
    "version": 3
   },
   "file_extension": ".py",
   "mimetype": "text/x-python",
   "name": "python",
   "nbconvert_exporter": "python",
   "pygments_lexer": "ipython3",
   "version": "3.12.6"
  }
 },
 "nbformat": 4,
 "nbformat_minor": 5
}
